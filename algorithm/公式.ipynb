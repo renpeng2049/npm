{
 "cells": [
  {
   "cell_type": "markdown",
   "id": "8e681012-c4f9-4a5e-b358-5287736eab6f",
   "metadata": {},
   "source": [
    "## 方差"
   ]
  },
  {
   "cell_type": "markdown",
   "id": "3d32c99e-dd25-4c23-90fc-5701ad1067e0",
   "metadata": {},
   "source": [
    "$ \\Large\\sigma^2 = \\frac{\\sum\\limits_{i=1}^{n}(x_i- \\bar x)^2}{n}$ "
   ]
  },
  {
   "cell_type": "markdown",
   "id": "c896cc13-b409-4c72-807a-d00574f28c43",
   "metadata": {},
   "source": [
    "$\\sigma^2$为总体方差，$x_i$为变量，$\\bar x$为总体均值，$n$为总体例数"
   ]
  },
  {
   "cell_type": "markdown",
   "id": "fe6ce04d-c1a5-48b5-8c1f-2a41cb49edee",
   "metadata": {},
   "source": [
    "实际工作中，总体均数难以得到时，应用样本统计量代替总体参数，经校正后，样本方差计算公式"
   ]
  },
  {
   "cell_type": "markdown",
   "id": "0ba97ca7-252f-483b-a127-c44dbf446f09",
   "metadata": {},
   "source": [
    "$\\Large S^2=\\frac{\\sum(X-\\bar X)^2}{n-1}$"
   ]
  },
  {
   "cell_type": "markdown",
   "id": "c8ec1bbb-ec9e-48c9-ae62-e8136baa5c2f",
   "metadata": {},
   "source": [
    "$S^2$为总体方差，$X$为样本，$\\bar X$为总体均值，$n$为总体例数"
   ]
  },
  {
   "cell_type": "markdown",
   "id": "6463418a-5aff-4ded-b21a-ad10e27c8b22",
   "metadata": {},
   "source": [
    "## 标准差"
   ]
  },
  {
   "cell_type": "markdown",
   "id": "ebb92928-29a2-4dff-8dfc-d0b93fddd26d",
   "metadata": {},
   "source": [
    "总体标准差： $\\Large \\sigma=\\sqrt{\\frac{\\sum\\limits_{i=1}^{n}(x_i- \\bar x)^2}{n}}$ "
   ]
  },
  {
   "cell_type": "markdown",
   "id": "b51c1195-779a-4189-aa20-e963429356b7",
   "metadata": {},
   "source": [
    "样本标准差： $\\Large S=\\sqrt{\\frac{\\sum\\limits_{i=1}^{n}(x_i- \\bar x)^2}{n-1}}$ "
   ]
  },
  {
   "cell_type": "markdown",
   "id": "f7a5e3b9-70ae-4683-be28-8c64a804d044",
   "metadata": {},
   "source": [
    "与方差的关系：方差=标准差的平方。"
   ]
  },
  {
   "cell_type": "markdown",
   "id": "13b361b9-8024-429d-85f5-6d1e995c3aed",
   "metadata": {},
   "source": [
    "## 高斯分布的概率密度函数（Probability Density Function），简称PDF"
   ]
  },
  {
   "cell_type": "markdown",
   "id": "2cf7dc80-620f-4bad-ad36-789892b50d89",
   "metadata": {},
   "source": [
    "$ \\Large p(x; \\mu , \\sigma) = \\frac{1}{\\sqrt{2\\pi\\sigma^2}}e^{-\\frac{(x-\\mu)^2}{2\\sigma^2}}$"
   ]
  },
  {
   "cell_type": "markdown",
   "id": "cebace82-d992-4a8a-8ee7-8372297347ac",
   "metadata": {},
   "source": [
    "$\\mu$ = mean value, 即为上面的$\\bar x$"
   ]
  },
  {
   "cell_type": "markdown",
   "id": "3c9859c6-2fee-461b-98dc-194779dc460d",
   "metadata": {},
   "source": [
    "### 68-95-99.7法则"
   ]
  },
  {
   "cell_type": "markdown",
   "id": "1786d027-47b6-4c44-b050-7444b2e1e113",
   "metadata": {},
   "source": [
    "$\\Large \\int_{\\mu-\\sigma}^{\\mu+\\sigma} \\frac{1}{\\sqrt{2\\pi\\sigma^2}}e^{-\\frac{(x-\\sigma)^2}{2\\sigma^2}} \\delta x$ = 0.68"
   ]
  },
  {
   "cell_type": "markdown",
   "id": "d24b0d02-78f2-460a-afe1-51511cfe7833",
   "metadata": {},
   "source": [
    "$\\Large \\int_{\\mu-2\\sigma}^{\\mu+2\\sigma} \\frac{1}{\\sqrt{2\\pi\\sigma^2}}e^{-\\frac{(x-\\sigma)^2}{2\\sigma^2}} \\delta x$ = 0.95"
   ]
  },
  {
   "cell_type": "markdown",
   "id": "77aa9390-86b7-458c-a1b2-e46416156cfd",
   "metadata": {},
   "source": [
    "$\\Large \\int_{\\mu-3\\sigma}^{\\mu+3\\sigma} \\frac{1}{\\sqrt{2\\pi\\sigma^2}}e^{-\\frac{(x-\\sigma)^2}{2\\sigma^2}} \\delta x$ = 0.997"
   ]
  },
  {
   "cell_type": "markdown",
   "id": "1f4b4445-53d3-4404-90d6-cb9fcf070208",
   "metadata": {},
   "source": [
    "另外两条重要的性质\n",
    "1. 密度函数关于平均值对称\n",
    "2. 平均值是它的众数（statistical mode)以及中位数"
   ]
  },
  {
   "cell_type": "markdown",
   "id": "2e443cd6-68f4-44bb-a11b-90b4a7e77702",
   "metadata": {},
   "source": [
    "## 二项分布与泊松分布 TODO"
   ]
  },
  {
   "cell_type": "markdown",
   "id": "54eda3ae-1b81-40d5-a68f-c565c0f68971",
   "metadata": {},
   "source": [
    "## 贝叶斯公式"
   ]
  }
 ],
 "metadata": {
  "kernelspec": {
   "display_name": "Python 3 (ipykernel)",
   "language": "python",
   "name": "python3"
  },
  "language_info": {
   "codemirror_mode": {
    "name": "ipython",
    "version": 3
   },
   "file_extension": ".py",
   "mimetype": "text/x-python",
   "name": "python",
   "nbconvert_exporter": "python",
   "pygments_lexer": "ipython3",
   "version": "3.11.4"
  }
 },
 "nbformat": 4,
 "nbformat_minor": 5
}
