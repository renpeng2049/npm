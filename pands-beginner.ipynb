{
 "cells": [
  {
   "cell_type": "code",
   "execution_count": 6,
   "id": "a1b3e3cb",
   "metadata": {},
   "outputs": [],
   "source": [
    "import pandas as pd\n",
    "import numpy as np"
   ]
  },
  {
   "cell_type": "code",
   "execution_count": 3,
   "id": "c4a6dc83",
   "metadata": {},
   "outputs": [],
   "source": [
    "index = pd.date_range('1/1/2000', periods=8)"
   ]
  },
  {
   "cell_type": "code",
   "execution_count": 4,
   "id": "f9439b87",
   "metadata": {},
   "outputs": [
    {
     "data": {
      "text/plain": [
       "DatetimeIndex(['2000-01-01', '2000-01-02', '2000-01-03', '2000-01-04',\n",
       "               '2000-01-05', '2000-01-06', '2000-01-07', '2000-01-08'],\n",
       "              dtype='datetime64[ns]', freq='D')"
      ]
     },
     "execution_count": 4,
     "metadata": {},
     "output_type": "execute_result"
    }
   ],
   "source": [
    "index"
   ]
  },
  {
   "cell_type": "code",
   "execution_count": 9,
   "id": "6f7eec8b",
   "metadata": {},
   "outputs": [],
   "source": [
    "s = pd.Series(np.random.randn(5), index=['a', 'b', 'c', 'd', 'e'])"
   ]
  },
  {
   "cell_type": "code",
   "execution_count": 25,
   "id": "66bad211",
   "metadata": {},
   "outputs": [
    {
     "data": {
      "text/plain": [
       "a    0.036076\n",
       "b    0.383654\n",
       "c   -1.885722\n",
       "d    0.889981\n",
       "e   -0.878771\n",
       "dtype: float64"
      ]
     },
     "execution_count": 25,
     "metadata": {},
     "output_type": "execute_result"
    }
   ],
   "source": [
    "s"
   ]
  },
  {
   "cell_type": "code",
   "execution_count": 11,
   "id": "1fab9d6f",
   "metadata": {},
   "outputs": [],
   "source": [
    "df = pd.DataFrame(np.random.randn(8, 3), index=index, columns=['A', 'B', 'C'])"
   ]
  },
  {
   "cell_type": "code",
   "execution_count": 13,
   "id": "31e600c3",
   "metadata": {},
   "outputs": [
    {
     "data": {
      "text/html": [
       "<div>\n",
       "<style scoped>\n",
       "    .dataframe tbody tr th:only-of-type {\n",
       "        vertical-align: middle;\n",
       "    }\n",
       "\n",
       "    .dataframe tbody tr th {\n",
       "        vertical-align: top;\n",
       "    }\n",
       "\n",
       "    .dataframe thead th {\n",
       "        text-align: right;\n",
       "    }\n",
       "</style>\n",
       "<table border=\"1\" class=\"dataframe\">\n",
       "  <thead>\n",
       "    <tr style=\"text-align: right;\">\n",
       "      <th></th>\n",
       "      <th>A</th>\n",
       "      <th>B</th>\n",
       "      <th>C</th>\n",
       "    </tr>\n",
       "  </thead>\n",
       "  <tbody>\n",
       "    <tr>\n",
       "      <th>2000-01-01</th>\n",
       "      <td>0.421836</td>\n",
       "      <td>-0.083742</td>\n",
       "      <td>0.270983</td>\n",
       "    </tr>\n",
       "    <tr>\n",
       "      <th>2000-01-02</th>\n",
       "      <td>1.801110</td>\n",
       "      <td>0.019997</td>\n",
       "      <td>-1.244011</td>\n",
       "    </tr>\n",
       "    <tr>\n",
       "      <th>2000-01-03</th>\n",
       "      <td>-2.636994</td>\n",
       "      <td>-0.453341</td>\n",
       "      <td>-1.180604</td>\n",
       "    </tr>\n",
       "    <tr>\n",
       "      <th>2000-01-04</th>\n",
       "      <td>-2.092750</td>\n",
       "      <td>0.140425</td>\n",
       "      <td>-0.215607</td>\n",
       "    </tr>\n",
       "    <tr>\n",
       "      <th>2000-01-05</th>\n",
       "      <td>0.658749</td>\n",
       "      <td>-1.111177</td>\n",
       "      <td>-1.147390</td>\n",
       "    </tr>\n",
       "    <tr>\n",
       "      <th>2000-01-06</th>\n",
       "      <td>-0.734649</td>\n",
       "      <td>-0.035853</td>\n",
       "      <td>-2.141690</td>\n",
       "    </tr>\n",
       "    <tr>\n",
       "      <th>2000-01-07</th>\n",
       "      <td>0.049359</td>\n",
       "      <td>-1.098155</td>\n",
       "      <td>-0.066650</td>\n",
       "    </tr>\n",
       "    <tr>\n",
       "      <th>2000-01-08</th>\n",
       "      <td>0.309807</td>\n",
       "      <td>-1.944200</td>\n",
       "      <td>0.381796</td>\n",
       "    </tr>\n",
       "  </tbody>\n",
       "</table>\n",
       "</div>"
      ],
      "text/plain": [
       "                   A         B         C\n",
       "2000-01-01  0.421836 -0.083742  0.270983\n",
       "2000-01-02  1.801110  0.019997 -1.244011\n",
       "2000-01-03 -2.636994 -0.453341 -1.180604\n",
       "2000-01-04 -2.092750  0.140425 -0.215607\n",
       "2000-01-05  0.658749 -1.111177 -1.147390\n",
       "2000-01-06 -0.734649 -0.035853 -2.141690\n",
       "2000-01-07  0.049359 -1.098155 -0.066650\n",
       "2000-01-08  0.309807 -1.944200  0.381796"
      ]
     },
     "execution_count": 13,
     "metadata": {},
     "output_type": "execute_result"
    }
   ],
   "source": [
    "df"
   ]
  },
  {
   "cell_type": "markdown",
   "id": "5c011363",
   "metadata": {},
   "source": [
    "## df切片"
   ]
  },
  {
   "cell_type": "code",
   "execution_count": 19,
   "id": "936da6a1",
   "metadata": {},
   "outputs": [
    {
     "data": {
      "text/html": [
       "<div>\n",
       "<style scoped>\n",
       "    .dataframe tbody tr th:only-of-type {\n",
       "        vertical-align: middle;\n",
       "    }\n",
       "\n",
       "    .dataframe tbody tr th {\n",
       "        vertical-align: top;\n",
       "    }\n",
       "\n",
       "    .dataframe thead th {\n",
       "        text-align: right;\n",
       "    }\n",
       "</style>\n",
       "<table border=\"1\" class=\"dataframe\">\n",
       "  <thead>\n",
       "    <tr style=\"text-align: right;\">\n",
       "      <th></th>\n",
       "      <th>A</th>\n",
       "      <th>B</th>\n",
       "      <th>C</th>\n",
       "    </tr>\n",
       "  </thead>\n",
       "  <tbody>\n",
       "    <tr>\n",
       "      <th>2000-01-08</th>\n",
       "      <td>0.309807</td>\n",
       "      <td>-1.944200</td>\n",
       "      <td>0.381796</td>\n",
       "    </tr>\n",
       "    <tr>\n",
       "      <th>2000-01-07</th>\n",
       "      <td>0.049359</td>\n",
       "      <td>-1.098155</td>\n",
       "      <td>-0.066650</td>\n",
       "    </tr>\n",
       "    <tr>\n",
       "      <th>2000-01-06</th>\n",
       "      <td>-0.734649</td>\n",
       "      <td>-0.035853</td>\n",
       "      <td>-2.141690</td>\n",
       "    </tr>\n",
       "    <tr>\n",
       "      <th>2000-01-05</th>\n",
       "      <td>0.658749</td>\n",
       "      <td>-1.111177</td>\n",
       "      <td>-1.147390</td>\n",
       "    </tr>\n",
       "    <tr>\n",
       "      <th>2000-01-04</th>\n",
       "      <td>-2.092750</td>\n",
       "      <td>0.140425</td>\n",
       "      <td>-0.215607</td>\n",
       "    </tr>\n",
       "    <tr>\n",
       "      <th>2000-01-03</th>\n",
       "      <td>-2.636994</td>\n",
       "      <td>-0.453341</td>\n",
       "      <td>-1.180604</td>\n",
       "    </tr>\n",
       "    <tr>\n",
       "      <th>2000-01-02</th>\n",
       "      <td>1.801110</td>\n",
       "      <td>0.019997</td>\n",
       "      <td>-1.244011</td>\n",
       "    </tr>\n",
       "    <tr>\n",
       "      <th>2000-01-01</th>\n",
       "      <td>0.421836</td>\n",
       "      <td>-0.083742</td>\n",
       "      <td>0.270983</td>\n",
       "    </tr>\n",
       "  </tbody>\n",
       "</table>\n",
       "</div>"
      ],
      "text/plain": [
       "                   A         B         C\n",
       "2000-01-08  0.309807 -1.944200  0.381796\n",
       "2000-01-07  0.049359 -1.098155 -0.066650\n",
       "2000-01-06 -0.734649 -0.035853 -2.141690\n",
       "2000-01-05  0.658749 -1.111177 -1.147390\n",
       "2000-01-04 -2.092750  0.140425 -0.215607\n",
       "2000-01-03 -2.636994 -0.453341 -1.180604\n",
       "2000-01-02  1.801110  0.019997 -1.244011\n",
       "2000-01-01  0.421836 -0.083742  0.270983"
      ]
     },
     "execution_count": 19,
     "metadata": {},
     "output_type": "execute_result"
    }
   ],
   "source": [
    "df[::-1]"
   ]
  },
  {
   "cell_type": "markdown",
   "id": "193664c7",
   "metadata": {},
   "source": [
    "## column传入函数"
   ]
  },
  {
   "cell_type": "code",
   "execution_count": 21,
   "id": "0de52f62",
   "metadata": {},
   "outputs": [
    {
     "data": {
      "text/html": [
       "<div>\n",
       "<style scoped>\n",
       "    .dataframe tbody tr th:only-of-type {\n",
       "        vertical-align: middle;\n",
       "    }\n",
       "\n",
       "    .dataframe tbody tr th {\n",
       "        vertical-align: top;\n",
       "    }\n",
       "\n",
       "    .dataframe thead th {\n",
       "        text-align: right;\n",
       "    }\n",
       "</style>\n",
       "<table border=\"1\" class=\"dataframe\">\n",
       "  <thead>\n",
       "    <tr style=\"text-align: right;\">\n",
       "      <th></th>\n",
       "      <th>a</th>\n",
       "      <th>b</th>\n",
       "      <th>c</th>\n",
       "    </tr>\n",
       "  </thead>\n",
       "  <tbody>\n",
       "    <tr>\n",
       "      <th>2000-01-01</th>\n",
       "      <td>0.421836</td>\n",
       "      <td>-0.083742</td>\n",
       "      <td>0.270983</td>\n",
       "    </tr>\n",
       "    <tr>\n",
       "      <th>2000-01-02</th>\n",
       "      <td>1.801110</td>\n",
       "      <td>0.019997</td>\n",
       "      <td>-1.244011</td>\n",
       "    </tr>\n",
       "    <tr>\n",
       "      <th>2000-01-03</th>\n",
       "      <td>-2.636994</td>\n",
       "      <td>-0.453341</td>\n",
       "      <td>-1.180604</td>\n",
       "    </tr>\n",
       "    <tr>\n",
       "      <th>2000-01-04</th>\n",
       "      <td>-2.092750</td>\n",
       "      <td>0.140425</td>\n",
       "      <td>-0.215607</td>\n",
       "    </tr>\n",
       "    <tr>\n",
       "      <th>2000-01-05</th>\n",
       "      <td>0.658749</td>\n",
       "      <td>-1.111177</td>\n",
       "      <td>-1.147390</td>\n",
       "    </tr>\n",
       "    <tr>\n",
       "      <th>2000-01-06</th>\n",
       "      <td>-0.734649</td>\n",
       "      <td>-0.035853</td>\n",
       "      <td>-2.141690</td>\n",
       "    </tr>\n",
       "    <tr>\n",
       "      <th>2000-01-07</th>\n",
       "      <td>0.049359</td>\n",
       "      <td>-1.098155</td>\n",
       "      <td>-0.066650</td>\n",
       "    </tr>\n",
       "    <tr>\n",
       "      <th>2000-01-08</th>\n",
       "      <td>0.309807</td>\n",
       "      <td>-1.944200</td>\n",
       "      <td>0.381796</td>\n",
       "    </tr>\n",
       "  </tbody>\n",
       "</table>\n",
       "</div>"
      ],
      "text/plain": [
       "                   a         b         c\n",
       "2000-01-01  0.421836 -0.083742  0.270983\n",
       "2000-01-02  1.801110  0.019997 -1.244011\n",
       "2000-01-03 -2.636994 -0.453341 -1.180604\n",
       "2000-01-04 -2.092750  0.140425 -0.215607\n",
       "2000-01-05  0.658749 -1.111177 -1.147390\n",
       "2000-01-06 -0.734649 -0.035853 -2.141690\n",
       "2000-01-07  0.049359 -1.098155 -0.066650\n",
       "2000-01-08  0.309807 -1.944200  0.381796"
      ]
     },
     "execution_count": 21,
     "metadata": {},
     "output_type": "execute_result"
    }
   ],
   "source": [
    "df.columns = [x.lower() for x in df.columns]\n",
    "df"
   ]
  },
  {
   "cell_type": "code",
   "execution_count": null,
   "id": "5f095b89",
   "metadata": {},
   "outputs": [],
   "source": []
  }
 ],
 "metadata": {
  "kernelspec": {
   "display_name": "Python 3 (ipykernel)",
   "language": "python",
   "name": "python3"
  },
  "language_info": {
   "codemirror_mode": {
    "name": "ipython",
    "version": 3
   },
   "file_extension": ".py",
   "mimetype": "text/x-python",
   "name": "python",
   "nbconvert_exporter": "python",
   "pygments_lexer": "ipython3",
   "version": "3.11.4"
  }
 },
 "nbformat": 4,
 "nbformat_minor": 5
}
